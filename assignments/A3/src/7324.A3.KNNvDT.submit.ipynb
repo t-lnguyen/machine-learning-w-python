{
 "cells": [
  {
   "attachments": {},
   "cell_type": "markdown",
   "metadata": {},
   "source": [
    "## 7324 Assignment A3 : KNN vs DT\n",
    "##### Name: Thang Nguyen\n",
    "##### SMU ID: 48689334"
   ]
  },
  {
   "attachments": {},
   "cell_type": "markdown",
   "metadata": {},
   "source": [
    "## Imports"
   ]
  },
  {
   "cell_type": "code",
   "execution_count": 454,
   "metadata": {},
   "outputs": [],
   "source": [
    "# The Classifiers\n",
    "from sklearn.neighbors import KNeighborsClassifier\n",
    "from sklearn.tree import DecisionTreeClassifier\n",
    "# Data Wrangling Tool\n",
    "from sklearn import preprocessing\n",
    "from sklearn.metrics import accuracy_score, classification_report, confusion_matrix\n",
    "from sklearn.model_selection import train_test_split\n",
    "from sklearn.preprocessing import StandardScaler\n",
    "# Foundational libraries\n",
    "import pandas as pd\n",
    "import numpy as np\n",
    "import time"
   ]
  },
  {
   "attachments": {},
   "cell_type": "markdown",
   "metadata": {},
   "source": [
    "## Loading dataset"
   ]
  },
  {
   "cell_type": "code",
   "execution_count": 455,
   "metadata": {},
   "outputs": [
    {
     "name": "stdout",
     "output_type": "stream",
     "text": [
      "<class 'pandas.core.frame.DataFrame'>\n",
      "RangeIndex: 210 entries, 0 to 209\n",
      "Data columns (total 8 columns):\n",
      " #   Column    Non-Null Count  Dtype  \n",
      "---  ------    --------------  -----  \n",
      " 0   f1        210 non-null    float64\n",
      " 1   f2        210 non-null    float64\n",
      " 2   f3        210 non-null    float64\n",
      " 3   f4        210 non-null    float64\n",
      " 4   f5        210 non-null    float64\n",
      " 5   f6        210 non-null    float64\n",
      " 6   f7        210 non-null    float64\n",
      " 7   category  210 non-null    int64  \n",
      "dtypes: float64(7), int64(1)\n",
      "memory usage: 13.2 KB\n"
     ]
    }
   ],
   "source": [
    "bio_df = pd.read_csv(\"../data/a3.biodata.csv\")\n",
    "# check for nulls \n",
    "bio_df.info()"
   ]
  },
  {
   "cell_type": "code",
   "execution_count": 456,
   "metadata": {},
   "outputs": [
    {
     "data": {
      "text/html": [
       "<div>\n",
       "<style scoped>\n",
       "    .dataframe tbody tr th:only-of-type {\n",
       "        vertical-align: middle;\n",
       "    }\n",
       "\n",
       "    .dataframe tbody tr th {\n",
       "        vertical-align: top;\n",
       "    }\n",
       "\n",
       "    .dataframe thead th {\n",
       "        text-align: right;\n",
       "    }\n",
       "</style>\n",
       "<table border=\"1\" class=\"dataframe\">\n",
       "  <thead>\n",
       "    <tr style=\"text-align: right;\">\n",
       "      <th></th>\n",
       "      <th>f1</th>\n",
       "      <th>f2</th>\n",
       "      <th>f3</th>\n",
       "      <th>f4</th>\n",
       "      <th>f5</th>\n",
       "      <th>f6</th>\n",
       "      <th>f7</th>\n",
       "      <th>category</th>\n",
       "    </tr>\n",
       "  </thead>\n",
       "  <tbody>\n",
       "    <tr>\n",
       "      <th>0</th>\n",
       "      <td>15.26</td>\n",
       "      <td>14.84</td>\n",
       "      <td>0.8710</td>\n",
       "      <td>5.763</td>\n",
       "      <td>3.312</td>\n",
       "      <td>2.221</td>\n",
       "      <td>5.220</td>\n",
       "      <td>1</td>\n",
       "    </tr>\n",
       "    <tr>\n",
       "      <th>1</th>\n",
       "      <td>14.88</td>\n",
       "      <td>14.57</td>\n",
       "      <td>0.8811</td>\n",
       "      <td>5.554</td>\n",
       "      <td>3.333</td>\n",
       "      <td>1.018</td>\n",
       "      <td>4.956</td>\n",
       "      <td>1</td>\n",
       "    </tr>\n",
       "    <tr>\n",
       "      <th>2</th>\n",
       "      <td>14.29</td>\n",
       "      <td>14.09</td>\n",
       "      <td>0.9050</td>\n",
       "      <td>5.291</td>\n",
       "      <td>3.337</td>\n",
       "      <td>2.699</td>\n",
       "      <td>4.825</td>\n",
       "      <td>1</td>\n",
       "    </tr>\n",
       "    <tr>\n",
       "      <th>3</th>\n",
       "      <td>13.84</td>\n",
       "      <td>13.94</td>\n",
       "      <td>0.8955</td>\n",
       "      <td>5.324</td>\n",
       "      <td>3.379</td>\n",
       "      <td>2.259</td>\n",
       "      <td>4.805</td>\n",
       "      <td>1</td>\n",
       "    </tr>\n",
       "    <tr>\n",
       "      <th>4</th>\n",
       "      <td>16.14</td>\n",
       "      <td>14.99</td>\n",
       "      <td>0.9034</td>\n",
       "      <td>5.658</td>\n",
       "      <td>3.562</td>\n",
       "      <td>1.355</td>\n",
       "      <td>5.175</td>\n",
       "      <td>1</td>\n",
       "    </tr>\n",
       "  </tbody>\n",
       "</table>\n",
       "</div>"
      ],
      "text/plain": [
       "      f1     f2      f3     f4     f5     f6     f7  category\n",
       "0  15.26  14.84  0.8710  5.763  3.312  2.221  5.220         1\n",
       "1  14.88  14.57  0.8811  5.554  3.333  1.018  4.956         1\n",
       "2  14.29  14.09  0.9050  5.291  3.337  2.699  4.825         1\n",
       "3  13.84  13.94  0.8955  5.324  3.379  2.259  4.805         1\n",
       "4  16.14  14.99  0.9034  5.658  3.562  1.355  5.175         1"
      ]
     },
     "execution_count": 456,
     "metadata": {},
     "output_type": "execute_result"
    }
   ],
   "source": [
    "# short preview for later scaling\n",
    "bio_df.head()"
   ]
  },
  {
   "cell_type": "code",
   "execution_count": 457,
   "metadata": {},
   "outputs": [],
   "source": [
    "# separate features from target\n",
    "features = bio_df.drop('category', axis=1)\n",
    "target = bio_df['category']"
   ]
  },
  {
   "attachments": {},
   "cell_type": "markdown",
   "metadata": {},
   "source": [
    "## All Features: KNN"
   ]
  },
  {
   "cell_type": "code",
   "execution_count": 458,
   "metadata": {},
   "outputs": [],
   "source": [
    "knn_X = features\n",
    "knn_y = target\n",
    "\n",
    "# split data into training and test sets\n",
    "knn_X_train, knn_X_test, knn_y_train, knn_y_test = train_test_split(knn_X, knn_y, stratify = knn_y, random_state = 0, train_size = 0.8)"
   ]
  },
  {
   "cell_type": "code",
   "execution_count": 459,
   "metadata": {},
   "outputs": [],
   "source": [
    "# instantiate classifier with default 5 neighbors and 1 jobs\n",
    "knn = KNeighborsClassifier(n_neighbors=5, n_jobs=1)"
   ]
  },
  {
   "cell_type": "code",
   "execution_count": 460,
   "metadata": {},
   "outputs": [],
   "source": [
    "# fit on training set\n",
    "knn.fit(knn_X_train, knn_y_train)\n",
    "# test on test set\n",
    "knn_y_predict = knn.predict(knn_X_test)"
   ]
  },
  {
   "cell_type": "code",
   "execution_count": 461,
   "metadata": {},
   "outputs": [
    {
     "name": "stdout",
     "output_type": "stream",
     "text": [
      "0.9285714285714286\n",
      "              precision    recall  f1-score   support\n",
      "\n",
      "           1       1.00      0.79      0.88        14\n",
      "           2       0.93      1.00      0.97        14\n",
      "           3       0.88      1.00      0.93        14\n",
      "\n",
      "    accuracy                           0.93        42\n",
      "   macro avg       0.94      0.93      0.93        42\n",
      "weighted avg       0.94      0.93      0.93        42\n",
      "\n",
      "[[11  1  2]\n",
      " [ 0 14  0]\n",
      " [ 0  0 14]]\n"
     ]
    }
   ],
   "source": [
    "# observing accuracy, precision, and confusion matrix\n",
    "print(accuracy_score(knn_y_test, knn_y_predict))\n",
    "print(classification_report(knn_y_test, knn_y_predict))\n",
    "print(confusion_matrix(knn_y_test, knn_y_predict))"
   ]
  },
  {
   "attachments": {},
   "cell_type": "markdown",
   "metadata": {},
   "source": [
    "## All Features w/Scaling: KNN"
   ]
  },
  {
   "cell_type": "code",
   "execution_count": 462,
   "metadata": {},
   "outputs": [],
   "source": [
    "# scale features\n",
    "scaler = StandardScaler()\n",
    "knn_X_train_scaled = scaler.fit_transform(knn_X_train)\n",
    "knn_X_test_scaled = scaler.fit_transform(knn_X_test)"
   ]
  },
  {
   "cell_type": "code",
   "execution_count": 463,
   "metadata": {},
   "outputs": [],
   "source": [
    "# fit on scaled training set\n",
    "knn.fit(knn_X_train_scaled, knn_y_train)\n",
    "# test on scaled test set\n",
    "knn_y_predict = knn.predict(knn_X_test_scaled)"
   ]
  },
  {
   "cell_type": "code",
   "execution_count": 464,
   "metadata": {},
   "outputs": [
    {
     "name": "stdout",
     "output_type": "stream",
     "text": [
      "1.0\n",
      "              precision    recall  f1-score   support\n",
      "\n",
      "           1       1.00      1.00      1.00        14\n",
      "           2       1.00      1.00      1.00        14\n",
      "           3       1.00      1.00      1.00        14\n",
      "\n",
      "    accuracy                           1.00        42\n",
      "   macro avg       1.00      1.00      1.00        42\n",
      "weighted avg       1.00      1.00      1.00        42\n",
      "\n",
      "[[14  0  0]\n",
      " [ 0 14  0]\n",
      " [ 0  0 14]]\n"
     ]
    }
   ],
   "source": [
    "# observing accuracy, precision, and confusion matrix\n",
    "print(accuracy_score(knn_y_test, knn_y_predict))\n",
    "print(classification_report(knn_y_test, knn_y_predict))\n",
    "print(confusion_matrix(knn_y_test, knn_y_predict))"
   ]
  },
  {
   "attachments": {},
   "cell_type": "markdown",
   "metadata": {},
   "source": [
    "## Some Features Removed: KNN \n",
    "### Removed features were determined through trial and error"
   ]
  },
  {
   "cell_type": "code",
   "execution_count": 465,
   "metadata": {},
   "outputs": [],
   "source": [
    "# removing f1 and f2 \n",
    "bio_df_blah = bio_df.drop(['f1', 'f2'], axis=1)\n",
    "\n",
    "# separate features from target\n",
    "features = bio_df_blah.drop('category', axis=1)\n",
    "target = bio_df_blah['category']"
   ]
  },
  {
   "cell_type": "code",
   "execution_count": 466,
   "metadata": {},
   "outputs": [],
   "source": [
    "knn_X = features\n",
    "knn_y = target\n",
    "\n",
    "# split data into training and test sets\n",
    "knn_X_train, knn_X_test, knn_y_train, knn_y_test = train_test_split(knn_X, knn_y, stratify = knn_y, random_state = 0, train_size = 0.8)"
   ]
  },
  {
   "cell_type": "code",
   "execution_count": 467,
   "metadata": {},
   "outputs": [],
   "source": [
    "# instantiate classifier with default 5 neighbors and 1 jobs\n",
    "knn = KNeighborsClassifier(n_neighbors=5, n_jobs=1)"
   ]
  },
  {
   "cell_type": "code",
   "execution_count": 468,
   "metadata": {},
   "outputs": [],
   "source": [
    "# fit on training set\n",
    "knn.fit(knn_X_train, knn_y_train)\n",
    "# test on test set\n",
    "knn_y_predict = knn.predict(knn_X_test)"
   ]
  },
  {
   "cell_type": "code",
   "execution_count": 469,
   "metadata": {},
   "outputs": [
    {
     "name": "stdout",
     "output_type": "stream",
     "text": [
      "0.9761904761904762\n",
      "              precision    recall  f1-score   support\n",
      "\n",
      "           1       1.00      0.93      0.96        14\n",
      "           2       0.93      1.00      0.97        14\n",
      "           3       1.00      1.00      1.00        14\n",
      "\n",
      "    accuracy                           0.98        42\n",
      "   macro avg       0.98      0.98      0.98        42\n",
      "weighted avg       0.98      0.98      0.98        42\n",
      "\n",
      "[[13  1  0]\n",
      " [ 0 14  0]\n",
      " [ 0  0 14]]\n"
     ]
    }
   ],
   "source": [
    "# observing accuracy, precision, and confusion matrix\n",
    "print(accuracy_score(knn_y_test, knn_y_predict))\n",
    "print(classification_report(knn_y_test, knn_y_predict))\n",
    "print(confusion_matrix(knn_y_test, knn_y_predict))"
   ]
  },
  {
   "attachments": {},
   "cell_type": "markdown",
   "metadata": {},
   "source": [
    "## Some Features Removed w/Scaling: KNN"
   ]
  },
  {
   "cell_type": "code",
   "execution_count": 470,
   "metadata": {},
   "outputs": [],
   "source": [
    "# scale features\n",
    "scaler = StandardScaler()\n",
    "knn_X_train_scaled = scaler.fit_transform(knn_X_train)\n",
    "knn_X_test_scaled = scaler.fit_transform(knn_X_test)"
   ]
  },
  {
   "cell_type": "code",
   "execution_count": 471,
   "metadata": {},
   "outputs": [],
   "source": [
    "# fit on scaled training set\n",
    "knn.fit(knn_X_train_scaled, knn_y_train)\n",
    "# test on scaled test set\n",
    "knn_y_predict = knn.predict(knn_X_test_scaled)"
   ]
  },
  {
   "cell_type": "code",
   "execution_count": 472,
   "metadata": {},
   "outputs": [
    {
     "name": "stdout",
     "output_type": "stream",
     "text": [
      "1.0\n",
      "              precision    recall  f1-score   support\n",
      "\n",
      "           1       1.00      1.00      1.00        14\n",
      "           2       1.00      1.00      1.00        14\n",
      "           3       1.00      1.00      1.00        14\n",
      "\n",
      "    accuracy                           1.00        42\n",
      "   macro avg       1.00      1.00      1.00        42\n",
      "weighted avg       1.00      1.00      1.00        42\n",
      "\n",
      "[[14  0  0]\n",
      " [ 0 14  0]\n",
      " [ 0  0 14]]\n"
     ]
    }
   ],
   "source": [
    "# observing accuracy, precision, and confusion matrix\n",
    "print(accuracy_score(knn_y_test, knn_y_predict))\n",
    "print(classification_report(knn_y_test, knn_y_predict))\n",
    "print(confusion_matrix(knn_y_test, knn_y_predict))"
   ]
  },
  {
   "attachments": {},
   "cell_type": "markdown",
   "metadata": {},
   "source": [
    "## All Features: Decision Trees"
   ]
  },
  {
   "attachments": {},
   "cell_type": "markdown",
   "metadata": {},
   "source": [
    "### Resetting bio_data"
   ]
  },
  {
   "cell_type": "code",
   "execution_count": 473,
   "metadata": {},
   "outputs": [],
   "source": [
    "bio_df = pd.read_csv(\"../data/a3.biodata.csv\")"
   ]
  },
  {
   "cell_type": "code",
   "execution_count": 474,
   "metadata": {},
   "outputs": [],
   "source": [
    "# separate features from target\n",
    "features = bio_df.drop('category', axis=1)\n",
    "target = bio_df['category']"
   ]
  },
  {
   "cell_type": "code",
   "execution_count": 475,
   "metadata": {},
   "outputs": [],
   "source": [
    "dt_X = features\n",
    "dt_y = target\n",
    "\n",
    "# split data into training and test sets\n",
    "dt_X_train, dt_X_test, dt_y_train, dt_y_test = train_test_split(dt_X, dt_y, stratify = dt_y, random_state = 0, train_size = 0.8)"
   ]
  },
  {
   "cell_type": "code",
   "execution_count": 476,
   "metadata": {},
   "outputs": [],
   "source": [
    "dt = DecisionTreeClassifier(random_state=0)"
   ]
  },
  {
   "cell_type": "code",
   "execution_count": 477,
   "metadata": {},
   "outputs": [],
   "source": [
    "# fit on training set\n",
    "dt.fit(dt_X_train, dt_y_train)\n",
    "# test on test set\n",
    "dt_y_predict = dt.predict(dt_X_test)"
   ]
  },
  {
   "cell_type": "code",
   "execution_count": 478,
   "metadata": {},
   "outputs": [
    {
     "name": "stdout",
     "output_type": "stream",
     "text": [
      "0.9285714285714286\n",
      "              precision    recall  f1-score   support\n",
      "\n",
      "           1       0.92      0.86      0.89        14\n",
      "           2       1.00      1.00      1.00        14\n",
      "           3       0.87      0.93      0.90        14\n",
      "\n",
      "    accuracy                           0.93        42\n",
      "   macro avg       0.93      0.93      0.93        42\n",
      "weighted avg       0.93      0.93      0.93        42\n",
      "\n",
      "[[12  0  2]\n",
      " [ 0 14  0]\n",
      " [ 1  0 13]]\n"
     ]
    }
   ],
   "source": [
    "# observing accuracy, precision, and confusion matrix\n",
    "print(accuracy_score(dt_y_test, dt_y_predict))\n",
    "print(classification_report(dt_y_test, dt_y_predict))\n",
    "print(confusion_matrix(dt_y_test, dt_y_predict))"
   ]
  },
  {
   "attachments": {},
   "cell_type": "markdown",
   "metadata": {},
   "source": [
    "## All Features w/Scaling: Decision Trees"
   ]
  },
  {
   "attachments": {},
   "cell_type": "markdown",
   "metadata": {},
   "source": [
    "## Some Features: Decision Trees"
   ]
  },
  {
   "attachments": {},
   "cell_type": "markdown",
   "metadata": {},
   "source": [
    "## Some Features w/Scalling: Decision Trees"
   ]
  }
 ],
 "metadata": {
  "kernelspec": {
   "display_name": "Python 3",
   "language": "python",
   "name": "python3"
  },
  "language_info": {
   "codemirror_mode": {
    "name": "ipython",
    "version": 3
   },
   "file_extension": ".py",
   "mimetype": "text/x-python",
   "name": "python",
   "nbconvert_exporter": "python",
   "pygments_lexer": "ipython3",
   "version": "3.10.10"
  },
  "orig_nbformat": 4,
  "vscode": {
   "interpreter": {
    "hash": "2ca8ec2c432f20d301ec431f8e8af92c2100322dd5dcda6e344911d420150d24"
   }
  }
 },
 "nbformat": 4,
 "nbformat_minor": 2
}
