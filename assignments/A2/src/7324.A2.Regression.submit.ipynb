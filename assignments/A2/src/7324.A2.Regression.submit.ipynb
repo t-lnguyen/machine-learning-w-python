{
 "cells": [
  {
   "attachments": {},
   "cell_type": "markdown",
   "id": "b24b618e",
   "metadata": {},
   "source": [
    "## 7324 Assignment A2 : Regression\n",
    "##### Name: Thang Nguyen\n",
    "##### SMU ID: 48689334"
   ]
  },
  {
   "cell_type": "markdown",
   "id": "580a3f17",
   "metadata": {},
   "source": [
    "### Compare the accuracy of different ML Regression algorithms in predicting the price of housing given a set of features and a final sales price. The models are:\n",
    "- LinearRegression\n",
    "- DecisionTreeRegressor\n",
    "- RandomForestRegressor   [using: RandomForestRegressor(n_estimators = 300 ,  random_state = 0) ]\n",
    "- Lasso Regression\n",
    "- Ridge Regression\n",
    "### Measure: R2, RMSE and Time (before and after the call to fit)"
   ]
  },
  {
   "cell_type": "code",
   "execution_count": 635,
   "id": "a8050188",
   "metadata": {},
   "outputs": [],
   "source": [
    "# import libraries \n",
    "from sklearn.metrics import mean_squared_error, r2_score, explained_variance_score\n",
    "from sklearn.linear_model import LinearRegression, Ridge, Lasso, RidgeCV, LassoCV\n",
    "from sklearn.tree import DecisionTreeRegressor\n",
    "from sklearn.ensemble import RandomForestRegressor\n",
    "from sklearn.model_selection import train_test_split\n",
    "\n",
    "from sklearn import preprocessing\n",
    "import pandas as pd\n",
    "import numpy as np\n",
    "import time\n",
    "\n",
    "# other imports .."
   ]
  },
  {
   "cell_type": "code",
   "execution_count": 636,
   "id": "9eb467c0",
   "metadata": {},
   "outputs": [],
   "source": [
    "### Set up Results Table as a DataFrame to summarizing  results\n",
    "\n",
    "d = {\n",
    "    'Model': ['Linear Regression',  'Decision Tree Regressor','Random Forest Regressor','Lasso Regression',  'Ridge Regression'],\n",
    "    'Details': ['', '', '', 'alpha=', 'alpha=' ],\n",
    "    'R2': ['-', '-', '-', '-', '-', ],\n",
    "    'RMSE': ['-', '-', '-', '-', '-'],\n",
    "    'Time' : ['-', '-', '-', '-', '-'],\n",
    "   \n",
    "}\n",
    "df_results = pd.DataFrame(data=d)"
   ]
  },
  {
   "cell_type": "code",
   "execution_count": 637,
   "id": "3e414931",
   "metadata": {},
   "outputs": [
    {
     "data": {
      "text/html": [
       "<div>\n",
       "<style scoped>\n",
       "    .dataframe tbody tr th:only-of-type {\n",
       "        vertical-align: middle;\n",
       "    }\n",
       "\n",
       "    .dataframe tbody tr th {\n",
       "        vertical-align: top;\n",
       "    }\n",
       "\n",
       "    .dataframe thead th {\n",
       "        text-align: right;\n",
       "    }\n",
       "</style>\n",
       "<table border=\"1\" class=\"dataframe\">\n",
       "  <thead>\n",
       "    <tr style=\"text-align: right;\">\n",
       "      <th></th>\n",
       "      <th>Model</th>\n",
       "      <th>Details</th>\n",
       "      <th>R2</th>\n",
       "      <th>RMSE</th>\n",
       "      <th>Time</th>\n",
       "    </tr>\n",
       "  </thead>\n",
       "  <tbody>\n",
       "    <tr>\n",
       "      <th>0</th>\n",
       "      <td>Linear Regression</td>\n",
       "      <td></td>\n",
       "      <td>-</td>\n",
       "      <td>-</td>\n",
       "      <td>-</td>\n",
       "    </tr>\n",
       "    <tr>\n",
       "      <th>1</th>\n",
       "      <td>Decision Tree Regressor</td>\n",
       "      <td></td>\n",
       "      <td>0.8485</td>\n",
       "      <td>-</td>\n",
       "      <td>-</td>\n",
       "    </tr>\n",
       "    <tr>\n",
       "      <th>2</th>\n",
       "      <td>Random Forest Regressor</td>\n",
       "      <td></td>\n",
       "      <td>-</td>\n",
       "      <td>-</td>\n",
       "      <td>-</td>\n",
       "    </tr>\n",
       "    <tr>\n",
       "      <th>3</th>\n",
       "      <td>Lasso Regression</td>\n",
       "      <td>alpha=</td>\n",
       "      <td>-</td>\n",
       "      <td>-</td>\n",
       "      <td>-</td>\n",
       "    </tr>\n",
       "    <tr>\n",
       "      <th>4</th>\n",
       "      <td>Ridge Regression</td>\n",
       "      <td>alpha=</td>\n",
       "      <td>-</td>\n",
       "      <td>-</td>\n",
       "      <td>-</td>\n",
       "    </tr>\n",
       "  </tbody>\n",
       "</table>\n",
       "</div>"
      ],
      "text/plain": [
       "                     Model Details      R2 RMSE Time\n",
       "0        Linear Regression               -    -    -\n",
       "1  Decision Tree Regressor          0.8485    -    -\n",
       "2  Random Forest Regressor               -    -    -\n",
       "3         Lasso Regression  alpha=       -    -    -\n",
       "4         Ridge Regression  alpha=       -    -    -"
      ]
     },
     "execution_count": 637,
     "metadata": {},
     "output_type": "execute_result"
    }
   ],
   "source": [
    "# How to add values to the  results dataframe -- remove in final submission\n",
    "\n",
    "some_val = 0.84848484\n",
    "\n",
    "# add value with constrained decimals\n",
    "df_results.at[1, 'R2'] = \"%.4f\" % some_val\n",
    "\n",
    "df_results"
   ]
  },
  {
   "cell_type": "markdown",
   "id": "4c54fc40",
   "metadata": {},
   "source": [
    "##  Part A\n",
    "Data Wrangling\n",
    "- Load the data in a2.data.csv into the Jupyter notebook as a Dataframe.\n",
    "- Remove any rows that have missing data.\n"
   ]
  },
  {
   "cell_type": "code",
   "execution_count": 638,
   "id": "7df30fe6",
   "metadata": {},
   "outputs": [
    {
     "name": "stdout",
     "output_type": "stream",
     "text": [
      "<class 'pandas.core.frame.DataFrame'>\n",
      "RangeIndex: 303 entries, 0 to 302\n",
      "Data columns (total 7 columns):\n",
      " #   Column        Non-Null Count  Dtype  \n",
      "---  ------        --------------  -----  \n",
      " 0   Year          303 non-null    int64  \n",
      " 1   price         303 non-null    float64\n",
      " 2   Kms_Driven    302 non-null    float64\n",
      " 3   fuel          302 non-null    object \n",
      " 4   seller        303 non-null    object \n",
      " 5   Transmission  303 non-null    object \n",
      " 6   Owner         303 non-null    int64  \n",
      "dtypes: float64(2), int64(2), object(3)\n",
      "memory usage: 16.7+ KB\n"
     ]
    }
   ],
   "source": [
    "# loading data and initial scan\n",
    "car_df = pd.read_csv('../data/7324.a2.cardata.csv')\n",
    "car_df.info()"
   ]
  },
  {
   "cell_type": "code",
   "execution_count": 639,
   "id": "3696bb08",
   "metadata": {},
   "outputs": [
    {
     "name": "stdout",
     "output_type": "stream",
     "text": [
      "<class 'pandas.core.frame.DataFrame'>\n",
      "Int64Index: 301 entries, 0 to 302\n",
      "Data columns (total 7 columns):\n",
      " #   Column        Non-Null Count  Dtype  \n",
      "---  ------        --------------  -----  \n",
      " 0   Year          301 non-null    int64  \n",
      " 1   price         301 non-null    float64\n",
      " 2   Kms_Driven    301 non-null    float64\n",
      " 3   fuel          301 non-null    object \n",
      " 4   seller        301 non-null    object \n",
      " 5   Transmission  301 non-null    object \n",
      " 6   Owner         301 non-null    int64  \n",
      "dtypes: float64(2), int64(2), object(3)\n",
      "memory usage: 18.8+ KB\n"
     ]
    }
   ],
   "source": [
    "# removing missing data and verification\n",
    "car_df.dropna(inplace = True)\n",
    "car_df.info()"
   ]
  },
  {
   "cell_type": "markdown",
   "id": "c9e242cb",
   "metadata": {},
   "source": [
    "## Part B\n",
    "Convert text fields to numeric fields\n",
    "- Convert text fields to numeric values using with one-hot-encoding or creating an ordinal sequence depending on the data\n",
    "- Move price to the last column of the dataframe\n",
    "- Display the first two rows of data using head(2)\n",
    "\n",
    "\n"
   ]
  },
  {
   "cell_type": "code",
   "execution_count": 640,
   "id": "8d8a45de",
   "metadata": {},
   "outputs": [
    {
     "data": {
      "text/html": [
       "<div>\n",
       "<style scoped>\n",
       "    .dataframe tbody tr th:only-of-type {\n",
       "        vertical-align: middle;\n",
       "    }\n",
       "\n",
       "    .dataframe tbody tr th {\n",
       "        vertical-align: top;\n",
       "    }\n",
       "\n",
       "    .dataframe thead th {\n",
       "        text-align: right;\n",
       "    }\n",
       "</style>\n",
       "<table border=\"1\" class=\"dataframe\">\n",
       "  <thead>\n",
       "    <tr style=\"text-align: right;\">\n",
       "      <th></th>\n",
       "      <th>Year</th>\n",
       "      <th>price</th>\n",
       "      <th>Kms_Driven</th>\n",
       "      <th>fuel</th>\n",
       "      <th>seller</th>\n",
       "      <th>Transmission</th>\n",
       "      <th>Owner</th>\n",
       "    </tr>\n",
       "  </thead>\n",
       "  <tbody>\n",
       "    <tr>\n",
       "      <th>0</th>\n",
       "      <td>2014</td>\n",
       "      <td>3.35</td>\n",
       "      <td>27000.0</td>\n",
       "      <td>Petrol</td>\n",
       "      <td>Dealer</td>\n",
       "      <td>Manual</td>\n",
       "      <td>0</td>\n",
       "    </tr>\n",
       "    <tr>\n",
       "      <th>1</th>\n",
       "      <td>2013</td>\n",
       "      <td>4.75</td>\n",
       "      <td>43000.0</td>\n",
       "      <td>Diesel</td>\n",
       "      <td>Dealer</td>\n",
       "      <td>Manual</td>\n",
       "      <td>0</td>\n",
       "    </tr>\n",
       "    <tr>\n",
       "      <th>3</th>\n",
       "      <td>2017</td>\n",
       "      <td>7.25</td>\n",
       "      <td>6900.0</td>\n",
       "      <td>Petrol</td>\n",
       "      <td>Dealer</td>\n",
       "      <td>Manual</td>\n",
       "      <td>0</td>\n",
       "    </tr>\n",
       "    <tr>\n",
       "      <th>4</th>\n",
       "      <td>2011</td>\n",
       "      <td>2.85</td>\n",
       "      <td>5200.0</td>\n",
       "      <td>Petrol</td>\n",
       "      <td>Dealer</td>\n",
       "      <td>Manual</td>\n",
       "      <td>0</td>\n",
       "    </tr>\n",
       "    <tr>\n",
       "      <th>5</th>\n",
       "      <td>2014</td>\n",
       "      <td>4.60</td>\n",
       "      <td>42450.0</td>\n",
       "      <td>Diesel</td>\n",
       "      <td>Dealer</td>\n",
       "      <td>Manual</td>\n",
       "      <td>0</td>\n",
       "    </tr>\n",
       "  </tbody>\n",
       "</table>\n",
       "</div>"
      ],
      "text/plain": [
       "   Year  price  Kms_Driven    fuel  seller Transmission  Owner\n",
       "0  2014   3.35     27000.0  Petrol  Dealer       Manual      0\n",
       "1  2013   4.75     43000.0  Diesel  Dealer       Manual      0\n",
       "3  2017   7.25      6900.0  Petrol  Dealer       Manual      0\n",
       "4  2011   2.85      5200.0  Petrol  Dealer       Manual      0\n",
       "5  2014   4.60     42450.0  Diesel  Dealer       Manual      0"
      ]
     },
     "execution_count": 640,
     "metadata": {},
     "output_type": "execute_result"
    }
   ],
   "source": [
    "# inital scan of data\n",
    "car_df.head()"
   ]
  },
  {
   "cell_type": "code",
   "execution_count": 641,
   "id": "44222abd",
   "metadata": {},
   "outputs": [],
   "source": [
    "# one-hot fuel\n",
    "car_df = pd.concat([car_df, pd.get_dummies(car_df['fuel'], prefix = 'fuel_type')], axis = 1)\n",
    "car_df.drop(['fuel'], axis = 1, inplace = True)"
   ]
  },
  {
   "cell_type": "code",
   "execution_count": 642,
   "id": "5a724e24",
   "metadata": {},
   "outputs": [],
   "source": [
    "# one-hot seller\n",
    "car_df = pd.concat([car_df, pd.get_dummies(car_df['seller'], prefix = 'source')], axis = 1)\n",
    "car_df.drop(['seller'], axis = 1, inplace = True)"
   ]
  },
  {
   "cell_type": "code",
   "execution_count": 643,
   "id": "94087d4f",
   "metadata": {},
   "outputs": [],
   "source": [
    "# one-hot transmission\n",
    "car_df = pd.concat([car_df, pd.get_dummies(car_df['Transmission'], prefix = 'transmission')], axis = 1)\n",
    "car_df.drop(['Transmission'], axis = 1, inplace = True)"
   ]
  },
  {
   "cell_type": "code",
   "execution_count": 644,
   "id": "29fdd5a5",
   "metadata": {},
   "outputs": [],
   "source": [
    "# move price feature to end of dataframe\n",
    "price_col = car_df.pop(\"price\")\n",
    "car_df.insert(len(car_df.columns), \"price\", price_col)"
   ]
  },
  {
   "cell_type": "code",
   "execution_count": 645,
   "id": "7ad5cefb",
   "metadata": {},
   "outputs": [
    {
     "data": {
      "text/html": [
       "<div>\n",
       "<style scoped>\n",
       "    .dataframe tbody tr th:only-of-type {\n",
       "        vertical-align: middle;\n",
       "    }\n",
       "\n",
       "    .dataframe tbody tr th {\n",
       "        vertical-align: top;\n",
       "    }\n",
       "\n",
       "    .dataframe thead th {\n",
       "        text-align: right;\n",
       "    }\n",
       "</style>\n",
       "<table border=\"1\" class=\"dataframe\">\n",
       "  <thead>\n",
       "    <tr style=\"text-align: right;\">\n",
       "      <th></th>\n",
       "      <th>Year</th>\n",
       "      <th>Kms_Driven</th>\n",
       "      <th>Owner</th>\n",
       "      <th>fuel_type_CNG</th>\n",
       "      <th>fuel_type_Diesel</th>\n",
       "      <th>fuel_type_Petrol</th>\n",
       "      <th>source_Dealer</th>\n",
       "      <th>source_Individual</th>\n",
       "      <th>transmission_Automatic</th>\n",
       "      <th>transmission_Manual</th>\n",
       "      <th>price</th>\n",
       "    </tr>\n",
       "  </thead>\n",
       "  <tbody>\n",
       "    <tr>\n",
       "      <th>0</th>\n",
       "      <td>2014</td>\n",
       "      <td>27000.0</td>\n",
       "      <td>0</td>\n",
       "      <td>0</td>\n",
       "      <td>0</td>\n",
       "      <td>1</td>\n",
       "      <td>1</td>\n",
       "      <td>0</td>\n",
       "      <td>0</td>\n",
       "      <td>1</td>\n",
       "      <td>3.35</td>\n",
       "    </tr>\n",
       "    <tr>\n",
       "      <th>1</th>\n",
       "      <td>2013</td>\n",
       "      <td>43000.0</td>\n",
       "      <td>0</td>\n",
       "      <td>0</td>\n",
       "      <td>1</td>\n",
       "      <td>0</td>\n",
       "      <td>1</td>\n",
       "      <td>0</td>\n",
       "      <td>0</td>\n",
       "      <td>1</td>\n",
       "      <td>4.75</td>\n",
       "    </tr>\n",
       "  </tbody>\n",
       "</table>\n",
       "</div>"
      ],
      "text/plain": [
       "   Year  Kms_Driven  Owner  fuel_type_CNG  fuel_type_Diesel  fuel_type_Petrol  \\\n",
       "0  2014     27000.0      0              0                 0                 1   \n",
       "1  2013     43000.0      0              0                 1                 0   \n",
       "\n",
       "   source_Dealer  source_Individual  transmission_Automatic  \\\n",
       "0              1                  0                       0   \n",
       "1              1                  0                       0   \n",
       "\n",
       "   transmission_Manual  price  \n",
       "0                    1   3.35  \n",
       "1                    1   4.75  "
      ]
     },
     "execution_count": 645,
     "metadata": {},
     "output_type": "execute_result"
    }
   ],
   "source": [
    "# displaying first 2 of data\n",
    "car_df.head(2)"
   ]
  },
  {
   "attachments": {},
   "cell_type": "markdown",
   "id": "e6fc0045",
   "metadata": {},
   "source": [
    "## Part C\n",
    "Measure the accuracy of three different regression models : LinearRegression, DecisionTreeRegression and RandomForestRegression\n",
    "- Use test_train_split to create training and testing datasets\n",
    "- Use your results to populate the results dataframe which has been set up for you.\n",
    "- Use the guide below to adjust the number of decimal places to display the table in your notebook.\n",
    "- R2 : 4 decimal place accuracy\n",
    "- RMSE : 0 decimals\n",
    "- Time : 2 decimal place accuracy\n"
   ]
  },
  {
   "cell_type": "code",
   "execution_count": 646,
   "id": "45107597",
   "metadata": {},
   "outputs": [],
   "source": [
    "# split the dataframe \n",
    "## split the variables \n",
    "X = car_df.drop('price', axis=1)\n",
    "y = car_df['price']\n",
    "X_train, X_test, y_train, y_test = train_test_split(X, y, test_size=0.2, train_size=0.8, random_state=0)"
   ]
  },
  {
   "cell_type": "code",
   "execution_count": 647,
   "id": "61a18371",
   "metadata": {},
   "outputs": [],
   "source": [
    "# linear regression \n",
    "lin_reg = LinearRegression()\n",
    "## capture time start\n",
    "lin_reg_time = time.time()\n",
    "lin_reg.fit(X_train, y_train)\n",
    "## capture time stop\n",
    "lin_reg_fit_time = time.time() - lin_reg_time\n",
    "lin_reg_y_predict = lin_reg.predict(X_test)\n",
    "lin_reg_mse = mean_squared_error(y_test, lin_reg_y_predict)\n",
    "lin_reg_r2 = r2_score(y_test, lin_reg_y_predict)"
   ]
  },
  {
   "cell_type": "code",
   "execution_count": 648,
   "id": "56709930",
   "metadata": {},
   "outputs": [
    {
     "name": "stdout",
     "output_type": "stream",
     "text": [
      "LinRegMSE: 7.731351822738985, LinRegR2: 0.6941387670830657, LinRegFitTime: 0.0013301372528076172\n"
     ]
    }
   ],
   "source": [
    "# peeking at scores and placing them into the results dataframe\n",
    "print(f'LinRegMSE: {lin_reg_mse}, LinRegR2: {lin_reg_r2}, LinRegFitTime: {lin_reg_fit_time}')\n",
    "df_results.at[0, 'R2'] = \"%.4f\" % lin_reg_r2\n",
    "df_results.at[0, 'RMSE'] = \"%.0f\" % lin_reg_mse\n",
    "df_results.at[0, 'Time'] = \"%.3f\" % lin_reg_fit_time"
   ]
  },
  {
   "cell_type": "code",
   "execution_count": 649,
   "id": "1380abf9",
   "metadata": {},
   "outputs": [],
   "source": [
    "# decision tree regression \n",
    "dec_tree = DecisionTreeRegressor()\n",
    "## capture time start\n",
    "dec_tree_time = time.time()\n",
    "dec_tree.fit(X_train, y_train)\n",
    "## capture time stop\n",
    "dec_tree_fit_time = time.time() - dec_tree_time\n",
    "dec_tree_y_predict = lin_reg.predict(X_test)\n",
    "dec_tree_mse = mean_squared_error(y_test, dec_tree_y_predict)\n",
    "dec_tree_r2 = r2_score(y_test, dec_tree_y_predict)"
   ]
  },
  {
   "cell_type": "code",
   "execution_count": 650,
   "id": "289935c3",
   "metadata": {},
   "outputs": [
    {
     "name": "stdout",
     "output_type": "stream",
     "text": [
      "DecTreeMSE: 7.731351822738985, DecTreeR2: 0.6941387670830657, DecTreeFitTime: 0.0017647743225097656\n"
     ]
    }
   ],
   "source": [
    "# peeking at scores and placing them into the results dataframe\n",
    "print(f'DecTreeMSE: {dec_tree_mse}, DecTreeR2: {dec_tree_r2}, DecTreeFitTime: {dec_tree_fit_time}')\n",
    "df_results.at[1, 'R2'] = \"%.4f\" % dec_tree_r2\n",
    "df_results.at[1, 'RMSE'] = \"%.0f\" % dec_tree_mse\n",
    "df_results.at[1, 'Time'] = \"%.3f\" % dec_tree_fit_time"
   ]
  },
  {
   "cell_type": "code",
   "execution_count": 651,
   "id": "fff19bfb",
   "metadata": {},
   "outputs": [],
   "source": [
    "# random forest regression\n",
    "ran_for = RandomForestRegressor(n_estimators = 300, random_state = 0)\n",
    "## capture time start\n",
    "ran_for_time = time.time()\n",
    "ran_for.fit(X_train, y_train)\n",
    "## capture time stop\n",
    "ran_for_fit_time = time.time() - ran_for_time\n",
    "ran_for_y_predict = lin_reg.predict(X_test)\n",
    "ran_for_mse = mean_squared_error(y_test, ran_for_y_predict)\n",
    "ran_for_r2 = r2_score(y_test, ran_for_y_predict)"
   ]
  },
  {
   "cell_type": "code",
   "execution_count": 652,
   "metadata": {},
   "outputs": [
    {
     "name": "stdout",
     "output_type": "stream",
     "text": [
      "RanForMSE: 7.731351822738985, RanForR2: 0.6941387670830657, RanForFitTime: 0.17662477493286133\n"
     ]
    }
   ],
   "source": [
    "# peeking at scores and placing them into the results dataframe\n",
    "print(f'RanForMSE: {ran_for_mse}, RanForR2: {ran_for_r2}, RanForFitTime: {ran_for_fit_time}')\n",
    "df_results.at[2, 'R2'] = \"%.4f\" % ran_for_r2\n",
    "df_results.at[2, 'RMSE'] = \"%.0f\" % ran_for_mse\n",
    "df_results.at[2, 'Time'] = \"%.3f\" % ran_for_fit_time"
   ]
  },
  {
   "cell_type": "code",
   "execution_count": 653,
   "id": "c028fdce",
   "metadata": {},
   "outputs": [
    {
     "data": {
      "text/html": [
       "<div>\n",
       "<style scoped>\n",
       "    .dataframe tbody tr th:only-of-type {\n",
       "        vertical-align: middle;\n",
       "    }\n",
       "\n",
       "    .dataframe tbody tr th {\n",
       "        vertical-align: top;\n",
       "    }\n",
       "\n",
       "    .dataframe thead th {\n",
       "        text-align: right;\n",
       "    }\n",
       "</style>\n",
       "<table border=\"1\" class=\"dataframe\">\n",
       "  <thead>\n",
       "    <tr style=\"text-align: right;\">\n",
       "      <th></th>\n",
       "      <th>Model</th>\n",
       "      <th>Details</th>\n",
       "      <th>R2</th>\n",
       "      <th>RMSE</th>\n",
       "      <th>Time</th>\n",
       "    </tr>\n",
       "  </thead>\n",
       "  <tbody>\n",
       "    <tr>\n",
       "      <th>0</th>\n",
       "      <td>Linear Regression</td>\n",
       "      <td></td>\n",
       "      <td>0.6941</td>\n",
       "      <td>8</td>\n",
       "      <td>0.001</td>\n",
       "    </tr>\n",
       "    <tr>\n",
       "      <th>1</th>\n",
       "      <td>Decision Tree Regressor</td>\n",
       "      <td></td>\n",
       "      <td>0.6941</td>\n",
       "      <td>8</td>\n",
       "      <td>0.002</td>\n",
       "    </tr>\n",
       "    <tr>\n",
       "      <th>2</th>\n",
       "      <td>Random Forest Regressor</td>\n",
       "      <td></td>\n",
       "      <td>0.6941</td>\n",
       "      <td>8</td>\n",
       "      <td>0.177</td>\n",
       "    </tr>\n",
       "    <tr>\n",
       "      <th>3</th>\n",
       "      <td>Lasso Regression</td>\n",
       "      <td>alpha=</td>\n",
       "      <td>-</td>\n",
       "      <td>-</td>\n",
       "      <td>-</td>\n",
       "    </tr>\n",
       "    <tr>\n",
       "      <th>4</th>\n",
       "      <td>Ridge Regression</td>\n",
       "      <td>alpha=</td>\n",
       "      <td>-</td>\n",
       "      <td>-</td>\n",
       "      <td>-</td>\n",
       "    </tr>\n",
       "  </tbody>\n",
       "</table>\n",
       "</div>"
      ],
      "text/plain": [
       "                     Model Details      R2 RMSE   Time\n",
       "0        Linear Regression          0.6941    8  0.001\n",
       "1  Decision Tree Regressor          0.6941    8  0.002\n",
       "2  Random Forest Regressor          0.6941    8  0.177\n",
       "3         Lasso Regression  alpha=       -    -      -\n",
       "4         Ridge Regression  alpha=       -    -      -"
      ]
     },
     "execution_count": 653,
     "metadata": {},
     "output_type": "execute_result"
    }
   ],
   "source": [
    "df_results"
   ]
  },
  {
   "cell_type": "markdown",
   "id": "1eab4919",
   "metadata": {},
   "source": [
    "## Part D. Best Alpha Paramters for Ridge and Lasso Regression\n",
    "### Both Ridge and Lasso regression have alpha parameters. Your job is to find the best alpha parameter for LassoCV and RidgeCV which run the models with the alpha parameters you specify and return the best one as model.alpha_ \n",
    "Do a bit of research to find appropriate alpha values to try\n",
    "There are two ways to specify the list of alpha values:\n",
    "1.\tcreate a list of values, as in: my_alphas = [0.1, 0.2, 0.3]\n",
    "2.\tuse the numpy arrange to generate a list of values, as in arrange(start, end, increment) – an easy way to test multiple values easily\n",
    "\n",
    "When you determine the best alpha parameters for Lasso and Ridge Regression use these values in part E\n"
   ]
  },
  {
   "cell_type": "code",
   "execution_count": 654,
   "id": "350d00d2",
   "metadata": {},
   "outputs": [],
   "source": [
    "# setting up alphas and scaling features \n",
    "my_alphas = np.arange(1, 6, 0.1)\n",
    "scaler = preprocessing.StandardScaler()\n",
    "X_train_standardized = scaler.fit_transform(X_train)"
   ]
  },
  {
   "cell_type": "code",
   "execution_count": 655,
   "id": "1928b2af",
   "metadata": {},
   "outputs": [
    {
     "name": "stdout",
     "output_type": "stream",
     "text": [
      "[ 0.86010098 -0.18143223  0.05709366 -0.3253458   1.00007348 -0.90909294\n",
      "  1.04124991 -1.04124991  0.70742374 -0.70742374]\n",
      "5.900000000000004\n"
     ]
    }
   ],
   "source": [
    "# ridge regression alpha tuning\n",
    "regr_cv = RidgeCV(alphas=my_alphas)\n",
    "regr_model_cv = regr_cv.fit(X_train_standardized, y_train)\n",
    "print(regr_model_cv.coef_)\n",
    "print(regr_model_cv.alpha_)"
   ]
  },
  {
   "cell_type": "code",
   "execution_count": 656,
   "id": "409bd07c",
   "metadata": {},
   "outputs": [
    {
     "name": "stdout",
     "output_type": "stream",
     "text": [
      "[ 0.00000000e+00 -0.00000000e+00 -0.00000000e+00 -0.00000000e+00\n",
      "  1.27971725e+00 -0.00000000e+00  1.29951483e+00 -4.73695157e-16\n",
      "  4.58633713e-01 -0.00000000e+00]\n",
      "1.0\n"
     ]
    }
   ],
   "source": [
    "# lasso regression alpha tuning\n",
    "lass_cv = LassoCV(alphas=my_alphas)\n",
    "lass_model_cv = lass_cv.fit(X_train_standardized, y_train)\n",
    "print(lass_model_cv.coef_)\n",
    "print(lass_model_cv.alpha_)"
   ]
  },
  {
   "cell_type": "code",
   "execution_count": 657,
   "id": "652ee2a8",
   "metadata": {},
   "outputs": [],
   "source": [
    "# adding alpha results to dataframe\n",
    "df_results.at[4, 'Details'] = \"%.4f\" % regr_model_cv.alpha_"
   ]
  },
  {
   "cell_type": "code",
   "execution_count": 658,
   "id": "5a6e1f52",
   "metadata": {},
   "outputs": [],
   "source": [
    "# adding alpha results to dataframe\n",
    "df_results.at[3, 'Details'] = \"%.4f\" % lass_model_cv.alpha_"
   ]
  },
  {
   "cell_type": "markdown",
   "id": "ec54349a",
   "metadata": {},
   "source": [
    "## Part E. Use best alpha parameters and compute results for Lasso & Ridge Regression "
   ]
  },
  {
   "cell_type": "code",
   "execution_count": 659,
   "id": "b5b832ed",
   "metadata": {},
   "outputs": [],
   "source": [
    "\n",
    "# ridge regression with best alpha parameter\n",
    "ridr_reg = Ridge(alpha=regr_model_cv.alpha_)\n",
    "## capture time start\n",
    "ridr_for_time = time.time()\n",
    "ridr_model = ridr_reg.fit(X_train, y_train)\n",
    "## capture time stop\n",
    "ridr_fit_time = time.time() - ridr_for_time\n",
    "ridr_y_predict = ridr_model.predict(X_test)\n",
    "ridr_mse = mean_squared_error(y_test, ridr_y_predict)\n",
    "ridr_r2 = r2_score(y_test, ridr_y_predict)\n"
   ]
  },
  {
   "cell_type": "code",
   "execution_count": 660,
   "id": "dcadd346",
   "metadata": {},
   "outputs": [
    {
     "name": "stdout",
     "output_type": "stream",
     "text": [
      "RidrMSE: 7.7318837827923526, RidrR2: 0.6941177221272137, RidrFitTime: 0.0011110305786132812\n"
     ]
    }
   ],
   "source": [
    "# peeking at scores and placing them into the results dataframe\n",
    "print(f'RidrMSE: {ridr_mse}, RidrR2: {ridr_r2}, RidrFitTime: {ridr_fit_time}')\n",
    "df_results.at[3, 'R2'] = \"%.4f\" % ridr_r2\n",
    "df_results.at[3, 'RMSE'] = \"%.0f\" % ridr_mse\n",
    "df_results.at[3, 'Time'] = \"%.3f\" % ridr_fit_time"
   ]
  },
  {
   "cell_type": "code",
   "execution_count": 661,
   "id": "5fdd7952",
   "metadata": {},
   "outputs": [],
   "source": [
    "# lasso regression with best alpha parameter\n",
    "lass_reg = Ridge(alpha=lass_model_cv.alpha_)\n",
    "\n",
    "## capture time start\n",
    "lass_for_time = time.time()\n",
    "lass_model = lass_reg.fit(X_train, y_train)\n",
    "## capture time stop\n",
    "lass_fit_time = time.time() - lass_for_time\n",
    "lass_y_predict = lass_model.predict(X_test)\n",
    "lass_mse = mean_squared_error(y_test, lass_y_predict)\n",
    "lass_r2 = r2_score(y_test, lass_y_predict)"
   ]
  },
  {
   "cell_type": "code",
   "execution_count": 662,
   "id": "8564b1b5",
   "metadata": {},
   "outputs": [
    {
     "name": "stdout",
     "output_type": "stream",
     "text": [
      "LassMSE: 7.713634926975682, LassR2: 0.6948396679999903, LassFitTime: 0.0010371208190917969\n"
     ]
    }
   ],
   "source": [
    "# peeking at scores and placing them into the results dataframe\n",
    "print(f'LassMSE: {lass_mse}, LassR2: {lass_r2}, LassFitTime: {lass_fit_time}')\n",
    "df_results.at[4, 'R2'] = \"%.4f\" % lass_r2\n",
    "df_results.at[4, 'RMSE'] = \"%.0f\" % lass_mse\n",
    "df_results.at[4, 'Time'] = \"%.3f\" % lass_fit_time"
   ]
  },
  {
   "cell_type": "markdown",
   "id": "18caa990",
   "metadata": {},
   "source": [
    "## Display Final Results Table"
   ]
  },
  {
   "cell_type": "code",
   "execution_count": 663,
   "id": "19177a1d",
   "metadata": {},
   "outputs": [
    {
     "data": {
      "text/html": [
       "<div>\n",
       "<style scoped>\n",
       "    .dataframe tbody tr th:only-of-type {\n",
       "        vertical-align: middle;\n",
       "    }\n",
       "\n",
       "    .dataframe tbody tr th {\n",
       "        vertical-align: top;\n",
       "    }\n",
       "\n",
       "    .dataframe thead th {\n",
       "        text-align: right;\n",
       "    }\n",
       "</style>\n",
       "<table border=\"1\" class=\"dataframe\">\n",
       "  <thead>\n",
       "    <tr style=\"text-align: right;\">\n",
       "      <th></th>\n",
       "      <th>Model</th>\n",
       "      <th>Details</th>\n",
       "      <th>R2</th>\n",
       "      <th>RMSE</th>\n",
       "      <th>Time</th>\n",
       "    </tr>\n",
       "  </thead>\n",
       "  <tbody>\n",
       "    <tr>\n",
       "      <th>0</th>\n",
       "      <td>Linear Regression</td>\n",
       "      <td></td>\n",
       "      <td>0.6941</td>\n",
       "      <td>8</td>\n",
       "      <td>0.001</td>\n",
       "    </tr>\n",
       "    <tr>\n",
       "      <th>1</th>\n",
       "      <td>Decision Tree Regressor</td>\n",
       "      <td></td>\n",
       "      <td>0.6941</td>\n",
       "      <td>8</td>\n",
       "      <td>0.002</td>\n",
       "    </tr>\n",
       "    <tr>\n",
       "      <th>2</th>\n",
       "      <td>Random Forest Regressor</td>\n",
       "      <td></td>\n",
       "      <td>0.6941</td>\n",
       "      <td>8</td>\n",
       "      <td>0.177</td>\n",
       "    </tr>\n",
       "    <tr>\n",
       "      <th>3</th>\n",
       "      <td>Lasso Regression</td>\n",
       "      <td>1.0000</td>\n",
       "      <td>0.6941</td>\n",
       "      <td>8</td>\n",
       "      <td>0.001</td>\n",
       "    </tr>\n",
       "    <tr>\n",
       "      <th>4</th>\n",
       "      <td>Ridge Regression</td>\n",
       "      <td>5.9000</td>\n",
       "      <td>0.6948</td>\n",
       "      <td>8</td>\n",
       "      <td>0.001</td>\n",
       "    </tr>\n",
       "  </tbody>\n",
       "</table>\n",
       "</div>"
      ],
      "text/plain": [
       "                     Model Details      R2 RMSE   Time\n",
       "0        Linear Regression          0.6941    8  0.001\n",
       "1  Decision Tree Regressor          0.6941    8  0.002\n",
       "2  Random Forest Regressor          0.6941    8  0.177\n",
       "3         Lasso Regression  1.0000  0.6941    8  0.001\n",
       "4         Ridge Regression  5.9000  0.6948    8  0.001"
      ]
     },
     "execution_count": 663,
     "metadata": {},
     "output_type": "execute_result"
    }
   ],
   "source": [
    "df_results"
   ]
  },
  {
   "cell_type": "markdown",
   "id": "e801f0cc",
   "metadata": {},
   "source": [
    "### Answer the following questions:\n",
    "#### 1. Which model takes the most time and why?\n",
    "\n",
    "\n",
    "#### 2. Did Ridge or Lasso regression show any improvement over Linear Regression?  Why?\n",
    "\n",
    "\n",
    "\n",
    "\n",
    "\n",
    "####  3.Which technique took the most time? Why?\n",
    "\n",
    "\n",
    "\n",
    "\n",
    "#### 4. It was recommended that if you received the \"Data Conversion\" warning listed in the assignment handout, that it can be eliminated by: \"changing your y_train parameter to: y_train.values.ravel() \"   \n",
    "#####  What does the ravel() function actually do?\n",
    "\n"
   ]
  },
  {
   "attachments": {},
   "cell_type": "markdown",
   "id": "cb645f32",
   "metadata": {},
   "source": [
    "1) Random forest ended up taking the most time, likely because of the n_estimators parameter, which determines how many decision trees to construct, and the default max_features parameter, which is sqrt(num_of_features). Since there are 300 trees and at each node, about 2 features, this complexity is likely contributing to more compute time.\n",
    "2) In this run, Ridge regression showed a nominal improvement over Linear Regression. Since Ridge regression progressively \"shrinks\" the model in terms ignoring independent variables when predicting the dependent variable, we are observing that each feature being evaluated has a slightly acceptable relation to the dependent variable, price. \n",
    "3) In the unformated times, Ridge ended up taking nominally more time. To preface, the dataset is relatively small in both features and observations. Since Ridge takes the square of the coefficients or features, the model gets infinitely closer to zero as it approaches a coefficient, taking proportionally more time to compute.\n",
    "4) The ravel() function returns a continguous flattened array, or a 1D array of the same type as the input array. This helps to avoid conversions due to differences in dimensions between features and observations."
   ]
  }
 ],
 "metadata": {
  "kernelspec": {
   "display_name": "Python 3",
   "language": "python",
   "name": "python3"
  },
  "language_info": {
   "codemirror_mode": {
    "name": "ipython",
    "version": 3
   },
   "file_extension": ".py",
   "mimetype": "text/x-python",
   "name": "python",
   "nbconvert_exporter": "python",
   "pygments_lexer": "ipython3",
   "version": "3.10.9"
  },
  "vscode": {
   "interpreter": {
    "hash": "b0fa6594d8f4cbf19f97940f81e996739fb7646882a419484c72d19e05852a7e"
   }
  }
 },
 "nbformat": 4,
 "nbformat_minor": 5
}
