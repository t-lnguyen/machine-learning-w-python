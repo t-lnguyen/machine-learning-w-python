{
 "cells": [
  {
   "cell_type": "markdown",
   "id": "b24b618e",
   "metadata": {},
   "source": [
    "## 7324 Assignment A2 : Regression\n",
    "##### Name: \n",
    "##### SMU ID:"
   ]
  },
  {
   "cell_type": "markdown",
   "id": "580a3f17",
   "metadata": {},
   "source": [
    "### Compare the accuracy of different ML Regression algorithms in predicting the price of housing given a set of features and a final sales price. The models are:\n",
    "- LinearRegression\n",
    "- DecisionTreeRegressor\n",
    "- RandomForestRegressor   [using: RandomForestRegressor(n_estimators = 300 ,  random_state = 0) ]\n",
    "- Lasso Regression\n",
    "- Ridge Regression\n",
    "### Measure: R2, RMSE and Time (before and after the call to fit)"
   ]
  },
  {
   "cell_type": "code",
   "execution_count": 5,
   "id": "a8050188",
   "metadata": {},
   "outputs": [],
   "source": [
    "# import libraries \n",
    "from sklearn.metrics import mean_squared_error, r2_score, explained_variance_score\n",
    "from sklearn.linear_model import LinearRegression, Ridge, Lasso\n",
    "from sklearn.tree import DecisionTreeRegressor\n",
    "\n",
    "from sklearn import preprocessing\n",
    "import pandas as pd\n",
    "import numpy as np\n",
    "import time\n",
    "\n",
    "# other imports .."
   ]
  },
  {
   "cell_type": "code",
   "execution_count": null,
   "id": "9eb467c0",
   "metadata": {},
   "outputs": [],
   "source": [
    "### Set up Results Table as a DataFrame to summarizing  results\n",
    "\n",
    "d = {\n",
    "    'Model': ['Linear Regression',  'Decision Tree Regressor','Random Forest Regressor','Lasso Regression',  'Ridge Regression'],\n",
    "    'Details': ['', '', '', 'alpha=', 'alpha=' ],\n",
    "    'R2': ['-', '-', '-', '-', '-', ],\n",
    "    'RMSE': ['-', '-', '-', '-', '-'],\n",
    "    'Time' : ['-', '-', '-', '-', '-'],\n",
    "   \n",
    "}\n",
    "df_results = pd.DataFrame(data=d)"
   ]
  },
  {
   "cell_type": "code",
   "execution_count": 15,
   "id": "3e414931",
   "metadata": {},
   "outputs": [
    {
     "data": {
      "text/html": [
       "<div>\n",
       "<style scoped>\n",
       "    .dataframe tbody tr th:only-of-type {\n",
       "        vertical-align: middle;\n",
       "    }\n",
       "\n",
       "    .dataframe tbody tr th {\n",
       "        vertical-align: top;\n",
       "    }\n",
       "\n",
       "    .dataframe thead th {\n",
       "        text-align: right;\n",
       "    }\n",
       "</style>\n",
       "<table border=\"1\" class=\"dataframe\">\n",
       "  <thead>\n",
       "    <tr style=\"text-align: right;\">\n",
       "      <th></th>\n",
       "      <th>Model</th>\n",
       "      <th>Details</th>\n",
       "      <th>R2</th>\n",
       "      <th>RMSE</th>\n",
       "      <th>Time</th>\n",
       "    </tr>\n",
       "  </thead>\n",
       "  <tbody>\n",
       "    <tr>\n",
       "      <th>0</th>\n",
       "      <td>Linear Regression</td>\n",
       "      <td></td>\n",
       "      <td>-</td>\n",
       "      <td>-</td>\n",
       "      <td>-</td>\n",
       "    </tr>\n",
       "    <tr>\n",
       "      <th>1</th>\n",
       "      <td>Decision Tree Regressor</td>\n",
       "      <td></td>\n",
       "      <td>0.8485</td>\n",
       "      <td>-</td>\n",
       "      <td>-</td>\n",
       "    </tr>\n",
       "    <tr>\n",
       "      <th>2</th>\n",
       "      <td>Random Forest Regressor</td>\n",
       "      <td></td>\n",
       "      <td>-</td>\n",
       "      <td>-</td>\n",
       "      <td>-</td>\n",
       "    </tr>\n",
       "    <tr>\n",
       "      <th>3</th>\n",
       "      <td>Lasso Regression</td>\n",
       "      <td>alpha=</td>\n",
       "      <td>-</td>\n",
       "      <td>-</td>\n",
       "      <td>-</td>\n",
       "    </tr>\n",
       "    <tr>\n",
       "      <th>4</th>\n",
       "      <td>Ridge Regression</td>\n",
       "      <td>alpha=</td>\n",
       "      <td>-</td>\n",
       "      <td>-</td>\n",
       "      <td>-</td>\n",
       "    </tr>\n",
       "  </tbody>\n",
       "</table>\n",
       "</div>"
      ],
      "text/plain": [
       "                     Model Details      R2 RMSE Time\n",
       "0        Linear Regression               -    -    -\n",
       "1  Decision Tree Regressor          0.8485    -    -\n",
       "2  Random Forest Regressor               -    -    -\n",
       "3         Lasso Regression  alpha=       -    -    -\n",
       "4         Ridge Regression  alpha=       -    -    -"
      ]
     },
     "execution_count": 15,
     "metadata": {},
     "output_type": "execute_result"
    }
   ],
   "source": [
    "# How to add values to the  results dataframe -- remove in final submission\n",
    "\n",
    "some_val = 0.84848484\n",
    "\n",
    "# add value with constrained decimals\n",
    "df_results.at[1, 'R2'] = \"%.4f\" % some_val\n",
    "\n",
    "df_results"
   ]
  },
  {
   "cell_type": "markdown",
   "id": "4c54fc40",
   "metadata": {},
   "source": [
    "##  Part A\n",
    "Data Wrangling\n",
    "- Load the data in a2.data.csv into the Jupyter notebook as a Dataframe.\n",
    "- Remove any rows that have missing data.\n"
   ]
  },
  {
   "cell_type": "code",
   "execution_count": null,
   "id": "7df30fe6",
   "metadata": {},
   "outputs": [],
   "source": [
    "\n"
   ]
  },
  {
   "cell_type": "markdown",
   "id": "c9e242cb",
   "metadata": {},
   "source": [
    "## Part B\n",
    "Convert text fields to numeric fields\n",
    "- Convert text fields to numeric values using with one-hot-encoding or creating an ordinal sequence depending on the data\n",
    "- Move price to the last column of the dataframe\n",
    "- Display the first two rows of data using head(2)\n",
    "\n",
    "\n"
   ]
  },
  {
   "cell_type": "code",
   "execution_count": null,
   "id": "29fdd5a5",
   "metadata": {},
   "outputs": [],
   "source": []
  },
  {
   "cell_type": "markdown",
   "id": "e6fc0045",
   "metadata": {},
   "source": [
    "## Part C\n",
    "Measure the accuracy of three different regression models : LinearRegression, DecisionTreeRegression and RandomForestRegression\n",
    "- Use test_train_split to create training and testing datasets\n",
    "- Use your results to populate the results dataframe which has been set up for you.\n",
    "- Use the guide below to adjust the number of decimal places to display the table in your notebook.\n",
    "- R2 : 4 decimal place accuracy\n",
    "- RMSE : 0 decimals\n",
    "- Time : 2 decimal place accuracy\n"
   ]
  },
  {
   "cell_type": "code",
   "execution_count": null,
   "id": "fff19bfb",
   "metadata": {},
   "outputs": [],
   "source": [
    "\n"
   ]
  },
  {
   "cell_type": "code",
   "execution_count": 10,
   "id": "c028fdce",
   "metadata": {},
   "outputs": [],
   "source": []
  },
  {
   "cell_type": "markdown",
   "id": "1eab4919",
   "metadata": {},
   "source": [
    "## Part D. Best Alpha Paramters for Ridge and Lasso Regression\n",
    "### Both Ridge and Lasso regression have alpha parameters. Your job is to find the best alpha parameter for LassoCV and RidgeCV which run the models with the alpha parameters you specify and return the best one as model.alpha_ \n",
    "Do a bit of research to find appropriate alpha values to try\n",
    "There are two ways to specify the list of alpha values:\n",
    "1.\tcreate a list of values, as in: my_alphas = [0.1, 0.2, 0.3]\n",
    "2.\tuse the numpy arrange to generate a list of values, as in arrange(start, end, increment) – an easy way to test multiple values easily\n",
    "\n",
    "When you determine the best alpha parameters for Lasso and Ridge Regression use these values in part E\n"
   ]
  },
  {
   "cell_type": "code",
   "execution_count": null,
   "id": "350d00d2",
   "metadata": {},
   "outputs": [],
   "source": []
  },
  {
   "cell_type": "code",
   "execution_count": null,
   "id": "1928b2af",
   "metadata": {},
   "outputs": [],
   "source": []
  },
  {
   "cell_type": "markdown",
   "id": "ec54349a",
   "metadata": {},
   "source": [
    "## Part E. Use best alpha parameters and compute results for Lasso & Ridge Regression "
   ]
  },
  {
   "cell_type": "code",
   "execution_count": null,
   "id": "b5b832ed",
   "metadata": {},
   "outputs": [],
   "source": [
    "\n"
   ]
  },
  {
   "cell_type": "code",
   "execution_count": null,
   "id": "5fdd7952",
   "metadata": {},
   "outputs": [],
   "source": []
  },
  {
   "cell_type": "code",
   "execution_count": null,
   "id": "8564b1b5",
   "metadata": {},
   "outputs": [],
   "source": []
  },
  {
   "cell_type": "markdown",
   "id": "18caa990",
   "metadata": {},
   "source": [
    "## Display Final Results Table"
   ]
  },
  {
   "cell_type": "code",
   "execution_count": null,
   "id": "19177a1d",
   "metadata": {},
   "outputs": [],
   "source": []
  },
  {
   "cell_type": "code",
   "execution_count": null,
   "id": "1e3d382b",
   "metadata": {},
   "outputs": [],
   "source": []
  },
  {
   "cell_type": "markdown",
   "id": "14441a02",
   "metadata": {},
   "source": []
  },
  {
   "cell_type": "markdown",
   "id": "e801f0cc",
   "metadata": {},
   "source": [
    "### Answer the following questions:\n",
    "#### 1. Which model takes the most time and why?\n",
    "\n",
    "\n",
    "#### 2. Did Ridge or Lasso regression show any improvement over Linear Regression?  Why?\n",
    "\n",
    "\n",
    "\n",
    "\n",
    "\n",
    "####  3.Which technique took the most time? Why?\n",
    "\n",
    "\n",
    "\n",
    "\n",
    "#### 4. It was recommended that if you received the \"Data Conversion\" warning listed in the assignment handout, that it can be eliminated by: \"changing your y_train parameter to: y_train.values.ravel() \"   \n",
    "#####  What does the ravel() function actually do?\n",
    "\n"
   ]
  },
  {
   "cell_type": "code",
   "execution_count": null,
   "id": "3a7135fb",
   "metadata": {},
   "outputs": [],
   "source": []
  }
 ],
 "metadata": {
  "kernelspec": {
   "display_name": "Python 3",
   "language": "python",
   "name": "python3"
  },
  "language_info": {
   "codemirror_mode": {
    "name": "ipython",
    "version": 3
   },
   "file_extension": ".py",
   "mimetype": "text/x-python",
   "name": "python",
   "nbconvert_exporter": "python",
   "pygments_lexer": "ipython3",
   "version": "3.8.3"
  }
 },
 "nbformat": 4,
 "nbformat_minor": 5
}
