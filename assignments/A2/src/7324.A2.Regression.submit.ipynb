{
 "cells": [
  {
   "attachments": {},
   "cell_type": "markdown",
   "id": "b24b618e",
   "metadata": {},
   "source": [
    "## 7324 Assignment A2 : Regression\n",
    "##### Name: Thang Nguyen\n",
    "##### SMU ID: 48689334"
   ]
  },
  {
   "cell_type": "markdown",
   "id": "580a3f17",
   "metadata": {},
   "source": [
    "### Compare the accuracy of different ML Regression algorithms in predicting the price of housing given a set of features and a final sales price. The models are:\n",
    "- LinearRegression\n",
    "- DecisionTreeRegressor\n",
    "- RandomForestRegressor   [using: RandomForestRegressor(n_estimators = 300 ,  random_state = 0) ]\n",
    "- Lasso Regression\n",
    "- Ridge Regression\n",
    "### Measure: R2, RMSE and Time (before and after the call to fit)"
   ]
  },
  {
   "cell_type": "code",
   "execution_count": 27,
   "id": "a8050188",
   "metadata": {},
   "outputs": [],
   "source": [
    "# import libraries \n",
    "from sklearn.metrics import mean_squared_error, r2_score, explained_variance_score\n",
    "from sklearn.linear_model import LinearRegression, Ridge, Lasso\n",
    "from sklearn.tree import DecisionTreeRegressor\n",
    "\n",
    "from sklearn import preprocessing\n",
    "import pandas as pd\n",
    "import numpy as np\n",
    "import time\n",
    "\n",
    "# other imports .."
   ]
  },
  {
   "cell_type": "code",
   "execution_count": 28,
   "id": "9eb467c0",
   "metadata": {},
   "outputs": [],
   "source": [
    "### Set up Results Table as a DataFrame to summarizing  results\n",
    "\n",
    "d = {\n",
    "    'Model': ['Linear Regression',  'Decision Tree Regressor','Random Forest Regressor','Lasso Regression',  'Ridge Regression'],\n",
    "    'Details': ['', '', '', 'alpha=', 'alpha=' ],\n",
    "    'R2': ['-', '-', '-', '-', '-', ],\n",
    "    'RMSE': ['-', '-', '-', '-', '-'],\n",
    "    'Time' : ['-', '-', '-', '-', '-'],\n",
    "   \n",
    "}\n",
    "df_results = pd.DataFrame(data=d)"
   ]
  },
  {
   "cell_type": "code",
   "execution_count": 29,
   "id": "3e414931",
   "metadata": {},
   "outputs": [
    {
     "data": {
      "text/html": [
       "<div>\n",
       "<style scoped>\n",
       "    .dataframe tbody tr th:only-of-type {\n",
       "        vertical-align: middle;\n",
       "    }\n",
       "\n",
       "    .dataframe tbody tr th {\n",
       "        vertical-align: top;\n",
       "    }\n",
       "\n",
       "    .dataframe thead th {\n",
       "        text-align: right;\n",
       "    }\n",
       "</style>\n",
       "<table border=\"1\" class=\"dataframe\">\n",
       "  <thead>\n",
       "    <tr style=\"text-align: right;\">\n",
       "      <th></th>\n",
       "      <th>Model</th>\n",
       "      <th>Details</th>\n",
       "      <th>R2</th>\n",
       "      <th>RMSE</th>\n",
       "      <th>Time</th>\n",
       "    </tr>\n",
       "  </thead>\n",
       "  <tbody>\n",
       "    <tr>\n",
       "      <th>0</th>\n",
       "      <td>Linear Regression</td>\n",
       "      <td></td>\n",
       "      <td>-</td>\n",
       "      <td>-</td>\n",
       "      <td>-</td>\n",
       "    </tr>\n",
       "    <tr>\n",
       "      <th>1</th>\n",
       "      <td>Decision Tree Regressor</td>\n",
       "      <td></td>\n",
       "      <td>0.8485</td>\n",
       "      <td>-</td>\n",
       "      <td>-</td>\n",
       "    </tr>\n",
       "    <tr>\n",
       "      <th>2</th>\n",
       "      <td>Random Forest Regressor</td>\n",
       "      <td></td>\n",
       "      <td>-</td>\n",
       "      <td>-</td>\n",
       "      <td>-</td>\n",
       "    </tr>\n",
       "    <tr>\n",
       "      <th>3</th>\n",
       "      <td>Lasso Regression</td>\n",
       "      <td>alpha=</td>\n",
       "      <td>-</td>\n",
       "      <td>-</td>\n",
       "      <td>-</td>\n",
       "    </tr>\n",
       "    <tr>\n",
       "      <th>4</th>\n",
       "      <td>Ridge Regression</td>\n",
       "      <td>alpha=</td>\n",
       "      <td>-</td>\n",
       "      <td>-</td>\n",
       "      <td>-</td>\n",
       "    </tr>\n",
       "  </tbody>\n",
       "</table>\n",
       "</div>"
      ],
      "text/plain": [
       "                     Model Details      R2 RMSE Time\n",
       "0        Linear Regression               -    -    -\n",
       "1  Decision Tree Regressor          0.8485    -    -\n",
       "2  Random Forest Regressor               -    -    -\n",
       "3         Lasso Regression  alpha=       -    -    -\n",
       "4         Ridge Regression  alpha=       -    -    -"
      ]
     },
     "execution_count": 29,
     "metadata": {},
     "output_type": "execute_result"
    }
   ],
   "source": [
    "# How to add values to the  results dataframe -- remove in final submission\n",
    "\n",
    "some_val = 0.84848484\n",
    "\n",
    "# add value with constrained decimals\n",
    "df_results.at[1, 'R2'] = \"%.4f\" % some_val\n",
    "\n",
    "df_results"
   ]
  },
  {
   "cell_type": "markdown",
   "id": "4c54fc40",
   "metadata": {},
   "source": [
    "##  Part A\n",
    "Data Wrangling\n",
    "- Load the data in a2.data.csv into the Jupyter notebook as a Dataframe.\n",
    "- Remove any rows that have missing data.\n"
   ]
  },
  {
   "cell_type": "code",
   "execution_count": 30,
   "id": "7df30fe6",
   "metadata": {},
   "outputs": [
    {
     "name": "stdout",
     "output_type": "stream",
     "text": [
      "<class 'pandas.core.frame.DataFrame'>\n",
      "RangeIndex: 303 entries, 0 to 302\n",
      "Data columns (total 7 columns):\n",
      " #   Column        Non-Null Count  Dtype  \n",
      "---  ------        --------------  -----  \n",
      " 0   Year          303 non-null    int64  \n",
      " 1   price         303 non-null    float64\n",
      " 2   Kms_Driven    302 non-null    float64\n",
      " 3   fuel          302 non-null    object \n",
      " 4   seller        303 non-null    object \n",
      " 5   Transmission  303 non-null    object \n",
      " 6   Owner         303 non-null    int64  \n",
      "dtypes: float64(2), int64(2), object(3)\n",
      "memory usage: 16.7+ KB\n",
      "<class 'pandas.core.frame.DataFrame'>\n",
      "Int64Index: 301 entries, 0 to 302\n",
      "Data columns (total 7 columns):\n",
      " #   Column        Non-Null Count  Dtype  \n",
      "---  ------        --------------  -----  \n",
      " 0   Year          301 non-null    int64  \n",
      " 1   price         301 non-null    float64\n",
      " 2   Kms_Driven    301 non-null    float64\n",
      " 3   fuel          301 non-null    object \n",
      " 4   seller        301 non-null    object \n",
      " 5   Transmission  301 non-null    object \n",
      " 6   Owner         301 non-null    int64  \n",
      "dtypes: float64(2), int64(2), object(3)\n",
      "memory usage: 18.8+ KB\n"
     ]
    }
   ],
   "source": [
    "car_df = pd.read_csv('../data/7324.a2.cardata.csv')\n",
    "car_df.info()\n",
    "car_df.dropna(inplace = True)\n",
    "car_df.info()"
   ]
  },
  {
   "cell_type": "markdown",
   "id": "c9e242cb",
   "metadata": {},
   "source": [
    "## Part B\n",
    "Convert text fields to numeric fields\n",
    "- Convert text fields to numeric values using with one-hot-encoding or creating an ordinal sequence depending on the data\n",
    "- Move price to the last column of the dataframe\n",
    "- Display the first two rows of data using head(2)\n",
    "\n",
    "\n"
   ]
  },
  {
   "cell_type": "code",
   "execution_count": 31,
   "id": "29fdd5a5",
   "metadata": {},
   "outputs": [
    {
     "data": {
      "text/html": [
       "<div>\n",
       "<style scoped>\n",
       "    .dataframe tbody tr th:only-of-type {\n",
       "        vertical-align: middle;\n",
       "    }\n",
       "\n",
       "    .dataframe tbody tr th {\n",
       "        vertical-align: top;\n",
       "    }\n",
       "\n",
       "    .dataframe thead th {\n",
       "        text-align: right;\n",
       "    }\n",
       "</style>\n",
       "<table border=\"1\" class=\"dataframe\">\n",
       "  <thead>\n",
       "    <tr style=\"text-align: right;\">\n",
       "      <th></th>\n",
       "      <th>Year</th>\n",
       "      <th>price</th>\n",
       "      <th>Kms_Driven</th>\n",
       "      <th>Owner</th>\n",
       "      <th>fuel_type_CNG</th>\n",
       "      <th>fuel_type_Diesel</th>\n",
       "      <th>fuel_type_Petrol</th>\n",
       "      <th>source_Dealer</th>\n",
       "      <th>source_Individual</th>\n",
       "      <th>transmission_Automatic</th>\n",
       "      <th>transmission_Manual</th>\n",
       "    </tr>\n",
       "  </thead>\n",
       "  <tbody>\n",
       "    <tr>\n",
       "      <th>0</th>\n",
       "      <td>2014</td>\n",
       "      <td>3.35</td>\n",
       "      <td>27000.0</td>\n",
       "      <td>0</td>\n",
       "      <td>0</td>\n",
       "      <td>0</td>\n",
       "      <td>1</td>\n",
       "      <td>1</td>\n",
       "      <td>0</td>\n",
       "      <td>0</td>\n",
       "      <td>1</td>\n",
       "    </tr>\n",
       "    <tr>\n",
       "      <th>1</th>\n",
       "      <td>2013</td>\n",
       "      <td>4.75</td>\n",
       "      <td>43000.0</td>\n",
       "      <td>0</td>\n",
       "      <td>0</td>\n",
       "      <td>1</td>\n",
       "      <td>0</td>\n",
       "      <td>1</td>\n",
       "      <td>0</td>\n",
       "      <td>0</td>\n",
       "      <td>1</td>\n",
       "    </tr>\n",
       "    <tr>\n",
       "      <th>3</th>\n",
       "      <td>2017</td>\n",
       "      <td>7.25</td>\n",
       "      <td>6900.0</td>\n",
       "      <td>0</td>\n",
       "      <td>0</td>\n",
       "      <td>0</td>\n",
       "      <td>1</td>\n",
       "      <td>1</td>\n",
       "      <td>0</td>\n",
       "      <td>0</td>\n",
       "      <td>1</td>\n",
       "    </tr>\n",
       "    <tr>\n",
       "      <th>4</th>\n",
       "      <td>2011</td>\n",
       "      <td>2.85</td>\n",
       "      <td>5200.0</td>\n",
       "      <td>0</td>\n",
       "      <td>0</td>\n",
       "      <td>0</td>\n",
       "      <td>1</td>\n",
       "      <td>1</td>\n",
       "      <td>0</td>\n",
       "      <td>0</td>\n",
       "      <td>1</td>\n",
       "    </tr>\n",
       "    <tr>\n",
       "      <th>5</th>\n",
       "      <td>2014</td>\n",
       "      <td>4.60</td>\n",
       "      <td>42450.0</td>\n",
       "      <td>0</td>\n",
       "      <td>0</td>\n",
       "      <td>1</td>\n",
       "      <td>0</td>\n",
       "      <td>1</td>\n",
       "      <td>0</td>\n",
       "      <td>0</td>\n",
       "      <td>1</td>\n",
       "    </tr>\n",
       "  </tbody>\n",
       "</table>\n",
       "</div>"
      ],
      "text/plain": [
       "   Year  price  Kms_Driven  Owner  fuel_type_CNG  fuel_type_Diesel  \\\n",
       "0  2014   3.35     27000.0      0              0                 0   \n",
       "1  2013   4.75     43000.0      0              0                 1   \n",
       "3  2017   7.25      6900.0      0              0                 0   \n",
       "4  2011   2.85      5200.0      0              0                 0   \n",
       "5  2014   4.60     42450.0      0              0                 1   \n",
       "\n",
       "   fuel_type_Petrol  source_Dealer  source_Individual  transmission_Automatic  \\\n",
       "0                 1              1                  0                       0   \n",
       "1                 0              1                  0                       0   \n",
       "3                 1              1                  0                       0   \n",
       "4                 1              1                  0                       0   \n",
       "5                 0              1                  0                       0   \n",
       "\n",
       "   transmission_Manual  \n",
       "0                    1  \n",
       "1                    1  \n",
       "3                    1  \n",
       "4                    1  \n",
       "5                    1  "
      ]
     },
     "execution_count": 31,
     "metadata": {},
     "output_type": "execute_result"
    }
   ],
   "source": [
    "car_df.head()\n",
    "\n",
    "# one-hot fuel\n",
    "car_df = pd.concat([car_df, pd.get_dummies(car_df['fuel'], prefix = 'fuel_type')], axis = 1)\n",
    "car_df.drop(['fuel'], axis = 1, inplace = True)\n",
    "# one-hot seller\n",
    "car_df = pd.concat([car_df, pd.get_dummies(car_df['seller'], prefix = 'source')], axis = 1)\n",
    "car_df.drop(['seller'], axis = 1, inplace = True)\n",
    "# one-hot transmission\n",
    "car_df = pd.concat([car_df, pd.get_dummies(car_df['Transmission'], prefix = 'transmission')], axis = 1)\n",
    "car_df.drop(['Transmission'], axis = 1, inplace = True)\n",
    "\n",
    "car_df.head()"
   ]
  },
  {
   "cell_type": "markdown",
   "id": "e6fc0045",
   "metadata": {},
   "source": [
    "## Part C\n",
    "Measure the accuracy of three different regression models : LinearRegression, DecisionTreeRegression and RandomForestRegression\n",
    "- Use test_train_split to create training and testing datasets\n",
    "- Use your results to populate the results dataframe which has been set up for you.\n",
    "- Use the guide below to adjust the number of decimal places to display the table in your notebook.\n",
    "- R2 : 4 decimal place accuracy\n",
    "- RMSE : 0 decimals\n",
    "- Time : 2 decimal place accuracy\n"
   ]
  },
  {
   "cell_type": "code",
   "execution_count": null,
   "id": "fff19bfb",
   "metadata": {},
   "outputs": [],
   "source": [
    "\n"
   ]
  },
  {
   "cell_type": "code",
   "execution_count": null,
   "id": "c028fdce",
   "metadata": {},
   "outputs": [],
   "source": []
  },
  {
   "cell_type": "markdown",
   "id": "1eab4919",
   "metadata": {},
   "source": [
    "## Part D. Best Alpha Paramters for Ridge and Lasso Regression\n",
    "### Both Ridge and Lasso regression have alpha parameters. Your job is to find the best alpha parameter for LassoCV and RidgeCV which run the models with the alpha parameters you specify and return the best one as model.alpha_ \n",
    "Do a bit of research to find appropriate alpha values to try\n",
    "There are two ways to specify the list of alpha values:\n",
    "1.\tcreate a list of values, as in: my_alphas = [0.1, 0.2, 0.3]\n",
    "2.\tuse the numpy arrange to generate a list of values, as in arrange(start, end, increment) – an easy way to test multiple values easily\n",
    "\n",
    "When you determine the best alpha parameters for Lasso and Ridge Regression use these values in part E\n"
   ]
  },
  {
   "cell_type": "code",
   "execution_count": null,
   "id": "350d00d2",
   "metadata": {},
   "outputs": [],
   "source": []
  },
  {
   "cell_type": "code",
   "execution_count": null,
   "id": "1928b2af",
   "metadata": {},
   "outputs": [],
   "source": []
  },
  {
   "cell_type": "markdown",
   "id": "ec54349a",
   "metadata": {},
   "source": [
    "## Part E. Use best alpha parameters and compute results for Lasso & Ridge Regression "
   ]
  },
  {
   "cell_type": "code",
   "execution_count": null,
   "id": "b5b832ed",
   "metadata": {},
   "outputs": [],
   "source": [
    "\n"
   ]
  },
  {
   "cell_type": "code",
   "execution_count": null,
   "id": "5fdd7952",
   "metadata": {},
   "outputs": [],
   "source": []
  },
  {
   "cell_type": "code",
   "execution_count": null,
   "id": "8564b1b5",
   "metadata": {},
   "outputs": [],
   "source": []
  },
  {
   "cell_type": "markdown",
   "id": "18caa990",
   "metadata": {},
   "source": [
    "## Display Final Results Table"
   ]
  },
  {
   "cell_type": "code",
   "execution_count": null,
   "id": "19177a1d",
   "metadata": {},
   "outputs": [],
   "source": []
  },
  {
   "cell_type": "code",
   "execution_count": null,
   "id": "1e3d382b",
   "metadata": {},
   "outputs": [],
   "source": []
  },
  {
   "cell_type": "markdown",
   "id": "14441a02",
   "metadata": {},
   "source": []
  },
  {
   "cell_type": "markdown",
   "id": "e801f0cc",
   "metadata": {},
   "source": [
    "### Answer the following questions:\n",
    "#### 1. Which model takes the most time and why?\n",
    "\n",
    "\n",
    "#### 2. Did Ridge or Lasso regression show any improvement over Linear Regression?  Why?\n",
    "\n",
    "\n",
    "\n",
    "\n",
    "\n",
    "####  3.Which technique took the most time? Why?\n",
    "\n",
    "\n",
    "\n",
    "\n",
    "#### 4. It was recommended that if you received the \"Data Conversion\" warning listed in the assignment handout, that it can be eliminated by: \"changing your y_train parameter to: y_train.values.ravel() \"   \n",
    "#####  What does the ravel() function actually do?\n",
    "\n"
   ]
  },
  {
   "cell_type": "code",
   "execution_count": null,
   "id": "3a7135fb",
   "metadata": {},
   "outputs": [],
   "source": []
  }
 ],
 "metadata": {
  "kernelspec": {
   "display_name": "Python 3",
   "language": "python",
   "name": "python3"
  },
  "language_info": {
   "codemirror_mode": {
    "name": "ipython",
    "version": 3
   },
   "file_extension": ".py",
   "mimetype": "text/x-python",
   "name": "python",
   "nbconvert_exporter": "python",
   "pygments_lexer": "ipython3",
   "version": "3.10.9"
  },
  "vscode": {
   "interpreter": {
    "hash": "b0fa6594d8f4cbf19f97940f81e996739fb7646882a419484c72d19e05852a7e"
   }
  }
 },
 "nbformat": 4,
 "nbformat_minor": 5
}
