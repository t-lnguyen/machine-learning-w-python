{
 "cells": [
  {
   "cell_type": "markdown",
   "id": "f522ce80",
   "metadata": {},
   "source": [
    "# 7324 Assignment 1: Data Wrangling"
   ]
  },
  {
   "cell_type": "markdown",
   "id": "48c20358",
   "metadata": {},
   "source": [
    "### Steps:\n",
    "1. Create a dataframe from the csv data file 7324.a1.data.csv found in the 7324.a1.zip file.Display using head()\t  \n",
    "2. Use the dataframe info() method to find the columns (features) with missing values. Then, replace any missing values with the median value of the column. Display dataframe with head().  \n",
    "3. Use the dataframe hist function to identify any features that are capped either hi or lo. Report on any you find. \n",
    "4. Write a function that takes one argument. if the arg is even, return arg / 2, otherwise (if odd) return arg+1. Apply this function to column C. Refer to Albon Cookbook 3.16.  Display dataframe with head().  \n",
    "5. Create a new feature (column) called G that is the sum of B and D.   Display dataframe with head().  \n",
    "6. In the column 'score', convert the column rank to integer values: Hi=3  Medium=2 Lo=1.   Display dataframe with head().  \n",
    "7. Use one-hot-encoding for the column 'state' such that the column 'state' is replaced by one-hot encoded columns.  Display dataframe with head().   \n",
    "7. Create and display a heatmap that shows highly correlated features. Report any features that are highly correlated with values > 0.90 or < -0.90  \n",
    "9. Assume column A is to be as the  target value for machine learning. Move column A to the first column to last column in the dataframe so it can be easily extracted for supervised learning. Rename as 'target'.  Display dataframe with head().  \n"
   ]
  },
  {
   "cell_type": "markdown",
   "id": "aca21956",
   "metadata": {},
   "source": [
    "#### 1.  Create a dataframe from the csv data file 7324.a1.data.csv found in the 7324.a1.zip file. Display using head()"
   ]
  },
  {
   "cell_type": "code",
   "execution_count": null,
   "id": "bb20009e",
   "metadata": {},
   "outputs": [],
   "source": [
    "# read_csv and display with head()\n",
    "import pandas as pd\n",
    "# path to data\n",
    "data_file = '../data/7324.a1.data.csv'\n",
    "# read data file\n",
    "dataframe = pd.read_csv(data_file)\n",
    "\n",
    "dataframe.head()\n"
   ]
  },
  {
   "cell_type": "markdown",
   "id": "14acaf77",
   "metadata": {},
   "source": [
    "#### 2.  Use the dataframe info() method to find the columns (features) with missing values."
   ]
  },
  {
   "cell_type": "code",
   "execution_count": null,
   "id": "42e1dd32",
   "metadata": {},
   "outputs": [],
   "source": [
    "# Replace any missing values with the median value of the column. Show results using info()\n",
    "dataframe.info()\n",
    "dataframe['C'] = dataframe['C'].fillna(dataframe['C'].mean())\n",
    "dataframe.info()"
   ]
  },
  {
   "cell_type": "markdown",
   "id": "2edc2c58",
   "metadata": {},
   "source": [
    "#### 3. Use the dataframe hist function to identify any features that are capped either hi or lo. Report on any you find."
   ]
  },
  {
   "cell_type": "code",
   "execution_count": null,
   "id": "1fd7347b",
   "metadata": {},
   "outputs": [],
   "source": [
    "# find any capped features and use print statement to report any found or none found\n",
    "# tip: see p49 in Geron: Hands on Machine Learning\n",
    "import matplotlib as mpl\n",
    "dataframe.hist(bins=25, figsize=(20,15))\n",
    "print(f'It appears that feature B, while scaled wildy, is capped hi')"
   ]
  },
  {
   "cell_type": "markdown",
   "id": "0937247d",
   "metadata": {},
   "source": [
    "#### 4. Write a function that takes one argument. if the arg is even, return arg / 2, otherwise (if odd) return arg+1. Apply this function to column C. Refer to Albon Cookbook 3.16"
   ]
  },
  {
   "cell_type": "code",
   "execution_count": null,
   "id": "7fbdca60",
   "metadata": {},
   "outputs": [],
   "source": [
    "# defining a function\n",
    "def even_odd_transformer(val):\n",
    "    return val / 2 if val % 2 == 0 else val + 1\n",
    "# using functional programming\n",
    "dataframe['C'] = dataframe['C'].apply(lambda val: val / 2 if val % 2 == 0 else val + 1)\n",
    "dataframe.head()"
   ]
  },
  {
   "cell_type": "markdown",
   "id": "00666f63",
   "metadata": {},
   "source": [
    "#### 5. Create a new feature (column) called G that is the sum of B and D.  "
   ]
  },
  {
   "cell_type": "code",
   "execution_count": null,
   "id": "66a5c40d",
   "metadata": {},
   "outputs": [],
   "source": [
    "# create column G as sum of B and D. Display with head()"
   ]
  },
  {
   "cell_type": "markdown",
   "id": "bf474e36",
   "metadata": {},
   "source": [
    "#### 6.  In the column 'score', convert the column rank to integer values: Hi=3 Medium=2 Lo=1"
   ]
  },
  {
   "cell_type": "code",
   "execution_count": null,
   "id": "5fa1f3ed",
   "metadata": {},
   "outputs": [],
   "source": [
    "# Convert score to integer ordinal values. Display results with head()"
   ]
  },
  {
   "cell_type": "markdown",
   "id": "04417baf",
   "metadata": {},
   "source": [
    "#### 7. Replace the column 'state' using one-hot-encoding"
   ]
  },
  {
   "cell_type": "code",
   "execution_count": null,
   "id": "3575f189",
   "metadata": {},
   "outputs": [],
   "source": [
    "# hint: use the panda get_dummies(..) Be sure to convert your ordinal text first since the get_dummies will one-hot ALL the text columns. "
   ]
  },
  {
   "cell_type": "code",
   "execution_count": null,
   "id": "1078aaeb",
   "metadata": {},
   "outputs": [],
   "source": []
  },
  {
   "cell_type": "markdown",
   "id": "fc3bde60",
   "metadata": {},
   "source": [
    "#### 8. Create and display a heatmap that shows highly correlated features. Report any features that are highly correlated with values > 0.90 or < -0.90  "
   ]
  },
  {
   "cell_type": "code",
   "execution_count": null,
   "id": "b1d74b08",
   "metadata": {},
   "outputs": [],
   "source": []
  },
  {
   "cell_type": "markdown",
   "id": "0151007d",
   "metadata": {},
   "source": [
    "#### 9. Assume columnA is to be as the the target value for machine learning. Move column A to the first column to last column in the dataframe and rename as 'target' so it can be easily extracted for supervised learning."
   ]
  },
  {
   "cell_type": "code",
   "execution_count": null,
   "id": "da7eb8da",
   "metadata": {},
   "outputs": [],
   "source": []
  }
 ],
 "metadata": {
  "kernelspec": {
   "display_name": "Python 3",
   "language": "python",
   "name": "python3"
  },
  "language_info": {
   "codemirror_mode": {
    "name": "ipython",
    "version": 3
   },
   "file_extension": ".py",
   "mimetype": "text/x-python",
   "name": "python",
   "nbconvert_exporter": "python",
   "pygments_lexer": "ipython3",
   "version": "3.10.9 (main, Dec 15 2022, 17:11:09) [Clang 14.0.0 (clang-1400.0.29.202)]"
  },
  "vscode": {
   "interpreter": {
    "hash": "b0fa6594d8f4cbf19f97940f81e996739fb7646882a419484c72d19e05852a7e"
   }
  }
 },
 "nbformat": 4,
 "nbformat_minor": 5
}
